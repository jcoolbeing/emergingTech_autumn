{
 "cells": [
  {
   "cell_type": "markdown",
   "id": "11c03ace",
   "metadata": {},
   "source": [
    "# Emerging Technologies"
   ]
  },
  {
   "cell_type": "markdown",
   "id": "d9193266",
   "metadata": {},
   "source": [
    " ## Task 1: Single Bit Functions"
   ]
  },
  {
   "cell_type": "markdown",
   "id": "547bf142",
   "metadata": {},
   "source": [
    "These are all the possible functions that take a single bit as input and have a single bit output(0 or 1).\n",
    "Below is a implementation using the Python language.\n",
    "\n",
    "1. Identity function - This function returns the same bit.\n",
    "2. NOT function - This function returns the opposit bit.\n",
    "3. Constant Zero function - This function always returns 0.\n",
    "4. Constant One function - This function always returns 1."
   ]
  },
  {
   "cell_type": "code",
   "execution_count": 5,
   "id": "2e9f5687",
   "metadata": {},
   "outputs": [
    {
     "data": {
      "text/plain": [
       "'\\ninput either 1 or 0\\noutput 1\\n'"
      ]
     },
     "execution_count": 5,
     "metadata": {},
     "output_type": "execute_result"
    }
   ],
   "source": [
    "# Identity Function\n",
    "def identity(bit):\n",
    "    return bit\n",
    "\"\"\"\n",
    "input either 1 or 0\n",
    "output either 1 or 0 (same as input)\n",
    "\"\"\"\n",
    "\n",
    "# Not Function\n",
    "def not_function(bit):\n",
    "    return 1 - bit\n",
    "\"\"\"\n",
    "input either 1 or 0\n",
    "output either 1 or 0 (not the same as input)\n",
    "\"\"\"\n",
    "\n",
    "# Constant Zero Function\n",
    "def constant_zero(bit):\n",
    "    return 0\n",
    "\"\"\"\n",
    "input either 1 or 0\n",
    "output 0\n",
    "\"\"\"\n",
    "\n",
    "# Constant One Function\n",
    "def constant_one(bit):\n",
    "    return 1\n",
    "\"\"\"\n",
    "input either 1 or 0\n",
    "output 1\n",
    "\"\"\""
   ]
  },
  {
   "cell_type": "code",
   "execution_count": 22,
   "id": "ac0129c7",
   "metadata": {},
   "outputs": [
    {
     "name": "stdout",
     "output_type": "stream",
     "text": [
      "Identity function:\n",
      "identity(0) = 0\n",
      "identity(1) = 1\n",
      "\n",
      "NOT function:\n",
      "not_function(0) = 1\n",
      "not_function(1) = 0\n",
      "\n",
      "Constant zero function:\n",
      "constant_zero(0) = 0\n",
      "constant_zero(1) = 0\n",
      "\n",
      "Constant one function:\n",
      "constant_one(0) = 1\n",
      "constant_one(1) = 1\n"
     ]
    }
   ],
   "source": [
    "# Implementation:\n",
    "\n",
    "input_bits = [0, 1]\n",
    "\n",
    "print(\"Identity function:\")\n",
    "for bit in input_bits:\n",
    "    print(f\"identity({bit}) = {identity(bit)}\")\n",
    "\n",
    "print(\"\\nNOT function:\")\n",
    "for bit in input_bits:\n",
    "    print(f\"not_function({bit}) = {not_function(bit)}\")\n",
    "\n",
    "print(\"\\nConstant zero function:\")\n",
    "for bit in input_bits:\n",
    "    print(f\"constant_zero({bit}) = {constant_zero(bit)}\")\n",
    "\n",
    "print(\"\\nConstant one function:\")\n",
    "for bit in input_bits:\n",
    "    print(f\"constant_one({bit}) = {constant_one(bit)}\")"
   ]
  },
  {
   "cell_type": "markdown",
   "id": "31baaca4",
   "metadata": {},
   "source": [
    "## Task 2: Random Selector Function"
   ]
  },
  {
   "cell_type": "code",
   "execution_count": null,
   "id": "59a90a3d",
   "metadata": {},
   "outputs": [],
   "source": [
    "# importing random function for use\n",
    "import random\n",
    "\n",
    "# list of functions\n",
    "functions = [identity, not_function, constant_zero, constant_one]\n",
    "\n",
    "# this function randomly selects one of the single bit functions\n",
    "def get_random_function():\n",
    "    return random.choice(functions)\n"
   ]
  }
 ],
 "metadata": {
  "kernelspec": {
   "display_name": "Python 3 (ipykernel)",
   "language": "python",
   "name": "python3"
  },
  "language_info": {
   "codemirror_mode": {
    "name": "ipython",
    "version": 3
   },
   "file_extension": ".py",
   "mimetype": "text/x-python",
   "name": "python",
   "nbconvert_exporter": "python",
   "pygments_lexer": "ipython3",
   "version": "3.9.7"
  }
 },
 "nbformat": 4,
 "nbformat_minor": 5
}
