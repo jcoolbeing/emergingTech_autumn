{
 "cells": [
  {
   "cell_type": "markdown",
   "id": "11c03ace",
   "metadata": {},
   "source": [
    "# Emerging Technologies"
   ]
  },
  {
   "cell_type": "markdown",
   "id": "d9193266",
   "metadata": {},
   "source": [
    " ## Task 1: Single Bit Functions"
   ]
  },
  {
   "cell_type": "markdown",
   "id": "547bf142",
   "metadata": {},
   "source": [
    "These are all the possible functions that take a single bit as input and have a single bit output(0 or 1).\n",
    "Below is a implementation using the Python language.\n",
    "\n",
    "1. Identity function - This function returns the same bit.\n",
    "2. NOT function - This function returns the opposit bit.\n",
    "3. Constant Zero function - This function always returns 0.\n",
    "4. Constant One function - This function always returns 1."
   ]
  },
  {
   "cell_type": "code",
   "execution_count": 5,
   "id": "2e9f5687",
   "metadata": {},
   "outputs": [
    {
     "data": {
      "text/plain": [
       "'\\ninput either 1 or 0\\noutput 1\\n'"
      ]
     },
     "execution_count": 5,
     "metadata": {},
     "output_type": "execute_result"
    }
   ],
   "source": [
    "# Identity Function\n",
    "def identity(bit):\n",
    "    return bit\n",
    "\"\"\"\n",
    "input either 1 or 0\n",
    "output either 1 or 0 (same as input)\n",
    "\"\"\"\n",
    "\n",
    "# Not Function\n",
    "def not_function(bit):\n",
    "    return 1 - bit\n",
    "\"\"\"\n",
    "input either 1 or 0\n",
    "output either 1 or 0 (not the same as input)\n",
    "\"\"\"\n",
    "\n",
    "# Constant Zero Function\n",
    "def constant_zero(bit):\n",
    "    return 0\n",
    "\"\"\"\n",
    "input either 1 or 0\n",
    "output 0\n",
    "\"\"\"\n",
    "\n",
    "# Constant One Function\n",
    "def constant_one(bit):\n",
    "    return 1\n",
    "\"\"\"\n",
    "input either 1 or 0\n",
    "output 1\n",
    "\"\"\""
   ]
  },
  {
   "cell_type": "code",
   "execution_count": 22,
   "id": "ac0129c7",
   "metadata": {},
   "outputs": [
    {
     "name": "stdout",
     "output_type": "stream",
     "text": [
      "Identity function:\n",
      "identity(0) = 0\n",
      "identity(1) = 1\n",
      "\n",
      "NOT function:\n",
      "not_function(0) = 1\n",
      "not_function(1) = 0\n",
      "\n",
      "Constant zero function:\n",
      "constant_zero(0) = 0\n",
      "constant_zero(1) = 0\n",
      "\n",
      "Constant one function:\n",
      "constant_one(0) = 1\n",
      "constant_one(1) = 1\n"
     ]
    }
   ],
   "source": [
    "# Implementation:\n",
    "\n",
    "input_bits = [0, 1]\n",
    "\n",
    "print(\"Identity function:\")\n",
    "for bit in input_bits:\n",
    "    print(f\"identity({bit}) = {identity(bit)}\")\n",
    "\n",
    "print(\"\\nNOT function:\")\n",
    "for bit in input_bits:\n",
    "    print(f\"not_function({bit}) = {not_function(bit)}\")\n",
    "\n",
    "print(\"\\nConstant zero function:\")\n",
    "for bit in input_bits:\n",
    "    print(f\"constant_zero({bit}) = {constant_zero(bit)}\")\n",
    "\n",
    "print(\"\\nConstant one function:\")\n",
    "for bit in input_bits:\n",
    "    print(f\"constant_one({bit}) = {constant_one(bit)}\")"
   ]
  },
  {
   "cell_type": "markdown",
   "id": "31baaca4",
   "metadata": {},
   "source": [
    "## Task 2: Random Selector Function"
   ]
  },
  {
   "cell_type": "code",
   "execution_count": 2,
   "id": "59a90a3d",
   "metadata": {},
   "outputs": [
    {
     "name": "stdout",
     "output_type": "stream",
     "text": [
      "Selected function: not_function\n",
      "selected_function(0) = 1\n",
      "selected_function(1) = 0\n"
     ]
    }
   ],
   "source": [
    "# importing random function for use\n",
    "import random\n",
    "\n",
    "# recreate functions\n",
    "def identity(bit):\n",
    "    return bit\n",
    "\n",
    "def not_function(bit):\n",
    "    return 1 - bit\n",
    "\n",
    "def constant_zero(bit):\n",
    "    return 0\n",
    "\n",
    "def constant_one(bit):\n",
    "    return 1\n",
    "\n",
    "# list of functions\n",
    "functions = [identity, not_function, constant_zero, constant_one]\n",
    "\n",
    "# this function randomly selects one of the single bit functions\n",
    "def get_random_function():\n",
    "    return random.choice(functions)\n",
    "\n",
    "# implementation\n",
    "selected_function = get_random_function()\n",
    "print(f\"Selected function: {selected_function.__name__}\")\n",
    "\n",
    "# tester to see if performing correctly\n",
    "print(f\"selected_function(0) = {selected_function(0)}\")\n",
    "print(f\"selected_function(1) = {selected_function(1)}\")"
   ]
  },
  {
   "cell_type": "markdown",
   "id": "f1c98cef",
   "metadata": {},
   "source": [
    "## Task 3: Deutsch's Algorithm Problem Explained"
   ]
  },
  {
   "cell_type": "markdown",
   "id": "40a1b586",
   "metadata": {},
   "source": [
    "Deutsch's algorithm is a quantum algorithm that is intendet to solve a problem faster than a traditional algorithm can.  The problem is to determine if a function is balanced or constant. Using a classical function you would have to solve a problem twice (f(0) and f(1)). Using Deutsch's algorithm it is possible to sovle this in one step by calculating for 0 and 1 simultaniously this being called <b>Superposition<b/>.\n",
    "\n",
    "* Balanced meaning the function returns different output for the inputs.\n",
    "f(0) != f(1)\n",
    "* Constant meaning the function returns the same output for the inputs.\n",
    "f(0) = f(1)"
   ]
  },
  {
   "cell_type": "markdown",
   "id": "0a127fe2",
   "metadata": {},
   "source": [
    "## Task 4: Classical Computer"
   ]
  },
  {
   "cell_type": "markdown",
   "id": "708ca46d",
   "metadata": {},
   "source": [
    "Here I use the random function that i created in task 2 to demonstrate how to solve the same in a classical approach."
   ]
  },
  {
   "cell_type": "code",
   "execution_count": 5,
   "id": "efb94f66",
   "metadata": {},
   "outputs": [
    {
     "data": {
      "text/plain": [
       "<function __main__.identity(bit)>"
      ]
     },
     "execution_count": 5,
     "metadata": {},
     "output_type": "execute_result"
    }
   ],
   "source": [
    "import random\n",
    "\n",
    "# creating the functions \n",
    "def identity(bit):\n",
    "    return bit\n",
    "\n",
    "def not_function(bit):\n",
    "    return 1 - bit\n",
    "\n",
    "def constant_zero(bit):\n",
    "    return 0\n",
    "\n",
    "def constant_one(bit):\n",
    "    return 1\n",
    "\n",
    "# creating list of functions to pick from\n",
    "functions = [identity, not_function, constant_zero, constant_one]\n",
    "\n",
    "# function to select the function to use from the list\n",
    "def get_random_function():\n",
    "    return random.choice(functions)\n",
    "\n",
    "get_random_function()"
   ]
  },
  {
   "cell_type": "code",
   "execution_count": null,
   "id": "0bb13ab8",
   "metadata": {},
   "outputs": [],
   "source": []
  }
 ],
 "metadata": {
  "kernelspec": {
   "display_name": "Python 3 (ipykernel)",
   "language": "python",
   "name": "python3"
  },
  "language_info": {
   "codemirror_mode": {
    "name": "ipython",
    "version": 3
   },
   "file_extension": ".py",
   "mimetype": "text/x-python",
   "name": "python",
   "nbconvert_exporter": "python",
   "pygments_lexer": "ipython3",
   "version": "3.9.7"
  }
 },
 "nbformat": 4,
 "nbformat_minor": 5
}
