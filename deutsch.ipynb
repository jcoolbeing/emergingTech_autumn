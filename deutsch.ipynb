{
 "cells": [
  {
   "cell_type": "markdown",
   "id": "11c03ace",
   "metadata": {},
   "source": [
    "# Emerging Technologies"
   ]
  },
  {
   "cell_type": "markdown",
   "id": "d9193266",
   "metadata": {},
   "source": [
    " ## Task 1: Single Bit Functions"
   ]
  },
  {
   "cell_type": "markdown",
   "id": "547bf142",
   "metadata": {},
   "source": [
    "These are all the possible functions that take a single bit as input and have a single bit output(0 or 1).\n",
    "Below is a implementation using the Python language.\n",
    "\n",
    "1. Identity function - This function returns the same bit.\n",
    "2. NOT function - This function returns the opposit bit.\n",
    "3. Constant Zero function - This function always returns 0.\n",
    "4. Constant One function - This function always returns 1."
   ]
  },
  {
   "cell_type": "code",
   "execution_count": 5,
   "id": "2e9f5687",
   "metadata": {},
   "outputs": [
    {
     "data": {
      "text/plain": [
       "'\\ninput either 1 or 0\\noutput 1\\n'"
      ]
     },
     "execution_count": 5,
     "metadata": {},
     "output_type": "execute_result"
    }
   ],
   "source": [
    "# Identity Function\n",
    "def identity(bit):\n",
    "    return bit\n",
    "\"\"\"\n",
    "input either 1 or 0\n",
    "output either 1 or 0 (same as input)\n",
    "\"\"\"\n",
    "\n",
    "# Not Function\n",
    "def not_function(bit):\n",
    "    return 1 - bit\n",
    "\"\"\"\n",
    "input either 1 or 0\n",
    "output either 1 or 0 (not the same as input)\n",
    "\"\"\"\n",
    "\n",
    "# Constant Zero Function\n",
    "def constant_zero(bit):\n",
    "    return 0\n",
    "\"\"\"\n",
    "input either 1 or 0\n",
    "output 0\n",
    "\"\"\"\n",
    "\n",
    "# Constant One Function\n",
    "def constant_one(bit):\n",
    "    return 1\n",
    "\"\"\"\n",
    "input either 1 or 0\n",
    "output 1\n",
    "\"\"\""
   ]
  },
  {
   "cell_type": "code",
   "execution_count": 22,
   "id": "ac0129c7",
   "metadata": {},
   "outputs": [
    {
     "name": "stdout",
     "output_type": "stream",
     "text": [
      "Identity function:\n",
      "identity(0) = 0\n",
      "identity(1) = 1\n",
      "\n",
      "NOT function:\n",
      "not_function(0) = 1\n",
      "not_function(1) = 0\n",
      "\n",
      "Constant zero function:\n",
      "constant_zero(0) = 0\n",
      "constant_zero(1) = 0\n",
      "\n",
      "Constant one function:\n",
      "constant_one(0) = 1\n",
      "constant_one(1) = 1\n"
     ]
    }
   ],
   "source": [
    "# Implementation:\n",
    "\n",
    "input_bits = [0, 1]\n",
    "\n",
    "print(\"Identity function:\")\n",
    "for bit in input_bits:\n",
    "    print(f\"identity({bit}) = {identity(bit)}\")\n",
    "\n",
    "print(\"\\nNOT function:\")\n",
    "for bit in input_bits:\n",
    "    print(f\"not_function({bit}) = {not_function(bit)}\")\n",
    "\n",
    "print(\"\\nConstant zero function:\")\n",
    "for bit in input_bits:\n",
    "    print(f\"constant_zero({bit}) = {constant_zero(bit)}\")\n",
    "\n",
    "print(\"\\nConstant one function:\")\n",
    "for bit in input_bits:\n",
    "    print(f\"constant_one({bit}) = {constant_one(bit)}\")"
   ]
  },
  {
   "cell_type": "markdown",
   "id": "31baaca4",
   "metadata": {},
   "source": [
    "## Task 2: Random Selector Function"
   ]
  },
  {
   "cell_type": "code",
   "execution_count": 2,
   "id": "59a90a3d",
   "metadata": {},
   "outputs": [
    {
     "name": "stdout",
     "output_type": "stream",
     "text": [
      "Selected function: not_function\n",
      "selected_function(0) = 1\n",
      "selected_function(1) = 0\n"
     ]
    }
   ],
   "source": [
    "# importing random function for use\n",
    "import random\n",
    "\n",
    "# recreate functions\n",
    "def identity(bit):\n",
    "    return bit\n",
    "\n",
    "def not_function(bit):\n",
    "    return 1 - bit\n",
    "\n",
    "def constant_zero(bit):\n",
    "    return 0\n",
    "\n",
    "def constant_one(bit):\n",
    "    return 1\n",
    "\n",
    "# list of functions\n",
    "functions = [identity, not_function, constant_zero, constant_one]\n",
    "\n",
    "# this function randomly selects one of the single bit functions\n",
    "def get_random_function():\n",
    "    return random.choice(functions)\n",
    "\n",
    "# implementation\n",
    "selected_function = get_random_function()\n",
    "print(f\"Selected function: {selected_function.__name__}\")\n",
    "\n",
    "# tester to see if performing correctly\n",
    "print(f\"selected_function(0) = {selected_function(0)}\")\n",
    "print(f\"selected_function(1) = {selected_function(1)}\")"
   ]
  },
  {
   "cell_type": "markdown",
   "id": "f1c98cef",
   "metadata": {},
   "source": [
    "## Task 3: Deutsch's Algorithm Problem Explained"
   ]
  },
  {
   "cell_type": "markdown",
   "id": "40a1b586",
   "metadata": {},
   "source": [
    "Deutsch's algorithm is a quantum algorithm that is intendet to solve a problem faster than a traditional algorithm can.  The problem is to determine if a function is balanced or constant. Using a classical function you would have to solve a problem twice (f(0) and f(1)). Using Deutsch's algorithm it is possible to sovle this in one step by calculating for 0 and 1 simultaniously this being called <b>Superposition<b/>.\n",
    "\n",
    "* Balanced meaning the function returns different output for the inputs.\n",
    "f(0) != f(1)\n",
    "* Constant meaning the function returns the same output for the inputs.\n",
    "f(0) = f(1)"
   ]
  },
  {
   "cell_type": "markdown",
   "id": "0a127fe2",
   "metadata": {},
   "source": [
    "## Task 4: Classical Computer"
   ]
  },
  {
   "cell_type": "markdown",
   "id": "708ca46d",
   "metadata": {},
   "source": [
    "Here I use the random function that i created in task 2 to demonstrate how to solve the same in a classical approach."
   ]
  },
  {
   "cell_type": "code",
   "execution_count": 6,
   "id": "efb94f66",
   "metadata": {},
   "outputs": [
    {
     "name": "stdout",
     "output_type": "stream",
     "text": [
      "Function: not_function\n",
      "This function is balanced\n"
     ]
    }
   ],
   "source": [
    "import random\n",
    "\n",
    "# creating the functions \n",
    "def identity(bit):\n",
    "    return bit\n",
    "\n",
    "def not_function(bit):\n",
    "    return 1 - bit\n",
    "\n",
    "def constant_zero(bit):\n",
    "    return 0\n",
    "\n",
    "def constant_one(bit):\n",
    "    return 1\n",
    "\n",
    "# creating list of functions to pick from\n",
    "functions = [identity, not_function, constant_zero, constant_one]\n",
    "\n",
    "# function to select the function to use from the list\n",
    "def get_random_function():\n",
    "    return random.choice(functions)\n",
    "\n",
    "# CLASSICAL COMPUTER\n",
    "# Select a function using get_random_function()\n",
    "this_function = get_random_function()\n",
    "print(f\"Function: {this_function.__name__}\")\n",
    "\n",
    "# Test function for 0\n",
    "tester0 = this_function(0)\n",
    "\n",
    "# Test function for 1\n",
    "tester1 = this_function(1)\n",
    "\n",
    "# Check if function is constant or balanced\n",
    "if tester0 == tester1:\n",
    "    print(\"This function is constant\")\n",
    "else:\n",
    "    print(\"This function is balanced\")\n"
   ]
  },
  {
   "cell_type": "markdown",
   "id": "665d31dc",
   "metadata": {},
   "source": [
    "## Quantum Circuit Project"
   ]
  },
  {
   "cell_type": "markdown",
   "id": "f798c94b",
   "metadata": {},
   "source": [
    "Deutschs algorithm is a quantum algorithm that can determine whether a binary function is balanced or constant. It does this by using only one step rather than two like a classical algorithm would. (Sevag Gharibian - Virginia Commonwealth University)"
   ]
  },
  {
   "cell_type": "markdown",
   "id": "45c2deb1",
   "metadata": {},
   "source": [
    "### Circuite Steps\n",
    "1. Initialization\n",
    "\n",
    "2. Superposition\n",
    "\n",
    "3. Oracle / Function\n",
    "\n",
    "4. Interference\n",
    "\n",
    "5. Measurement\n"
   ]
  },
  {
   "cell_type": "code",
   "execution_count": 1,
   "id": "b5a8ae54",
   "metadata": {},
   "outputs": [
    {
     "ename": "ImportError",
     "evalue": "cannot import name 'Self' from 'typing_extensions' (C:\\Users\\J.Board\\anaconda3\\lib\\site-packages\\typing_extensions.py)",
     "output_type": "error",
     "traceback": [
      "\u001b[1;31m---------------------------------------------------------------------------\u001b[0m",
      "\u001b[1;31mImportError\u001b[0m                               Traceback (most recent call last)",
      "\u001b[1;32m~\\AppData\\Local\\Temp\\ipykernel_13672\\3707109303.py\u001b[0m in \u001b[0;36m<module>\u001b[1;34m\u001b[0m\n\u001b[1;32m----> 1\u001b[1;33m \u001b[1;32mfrom\u001b[0m \u001b[0mqiskit\u001b[0m \u001b[1;32mimport\u001b[0m \u001b[0mQuantumCircuit\u001b[0m\u001b[1;33m,\u001b[0m \u001b[0mAer\u001b[0m\u001b[1;33m,\u001b[0m \u001b[0mexecute\u001b[0m\u001b[1;33m\u001b[0m\u001b[1;33m\u001b[0m\u001b[0m\n\u001b[0m\u001b[0;32m      2\u001b[0m \u001b[1;32mfrom\u001b[0m \u001b[0mqiskit\u001b[0m\u001b[1;33m.\u001b[0m\u001b[0mvisualization\u001b[0m \u001b[1;32mimport\u001b[0m \u001b[0mplot_histogram\u001b[0m\u001b[1;33m\u001b[0m\u001b[1;33m\u001b[0m\u001b[0m\n\u001b[0;32m      3\u001b[0m \u001b[1;32mfrom\u001b[0m \u001b[0mqiskit\u001b[0m\u001b[1;33m.\u001b[0m\u001b[0mcircuit\u001b[0m\u001b[1;33m.\u001b[0m\u001b[0mlibrary\u001b[0m \u001b[1;32mimport\u001b[0m \u001b[0mZGate\u001b[0m\u001b[1;33m,\u001b[0m \u001b[0mXGate\u001b[0m\u001b[1;33m\u001b[0m\u001b[1;33m\u001b[0m\u001b[0m\n\u001b[0;32m      4\u001b[0m \u001b[1;33m\u001b[0m\u001b[0m\n\u001b[0;32m      5\u001b[0m \u001b[1;33m\u001b[0m\u001b[0m\n",
      "\u001b[1;32m~\\anaconda3\\lib\\site-packages\\qiskit\\__init__.py\u001b[0m in \u001b[0;36m<module>\u001b[1;34m\u001b[0m\n\u001b[0;32m     87\u001b[0m \u001b[1;33m\u001b[0m\u001b[0m\n\u001b[0;32m     88\u001b[0m \u001b[1;31m# The main qiskit operators\u001b[0m\u001b[1;33m\u001b[0m\u001b[1;33m\u001b[0m\u001b[0m\n\u001b[1;32m---> 89\u001b[1;33m \u001b[1;32mfrom\u001b[0m \u001b[0mqiskit\u001b[0m\u001b[1;33m.\u001b[0m\u001b[0mcircuit\u001b[0m \u001b[1;32mimport\u001b[0m \u001b[0mClassicalRegister\u001b[0m\u001b[1;33m\u001b[0m\u001b[1;33m\u001b[0m\u001b[0m\n\u001b[0m\u001b[0;32m     90\u001b[0m \u001b[1;32mfrom\u001b[0m \u001b[0mqiskit\u001b[0m\u001b[1;33m.\u001b[0m\u001b[0mcircuit\u001b[0m \u001b[1;32mimport\u001b[0m \u001b[0mQuantumRegister\u001b[0m\u001b[1;33m\u001b[0m\u001b[1;33m\u001b[0m\u001b[0m\n\u001b[0;32m     91\u001b[0m \u001b[1;32mfrom\u001b[0m \u001b[0mqiskit\u001b[0m\u001b[1;33m.\u001b[0m\u001b[0mcircuit\u001b[0m \u001b[1;32mimport\u001b[0m \u001b[0mAncillaRegister\u001b[0m\u001b[1;33m\u001b[0m\u001b[1;33m\u001b[0m\u001b[0m\n",
      "\u001b[1;32m~\\anaconda3\\lib\\site-packages\\qiskit\\circuit\\__init__.py\u001b[0m in \u001b[0;36m<module>\u001b[1;34m\u001b[0m\n\u001b[0;32m   1235\u001b[0m \u001b[1;32mfrom\u001b[0m \u001b[1;33m.\u001b[0m\u001b[0mbit\u001b[0m \u001b[1;32mimport\u001b[0m \u001b[0mBit\u001b[0m\u001b[1;33m\u001b[0m\u001b[1;33m\u001b[0m\u001b[0m\n\u001b[0;32m   1236\u001b[0m \u001b[1;32mfrom\u001b[0m \u001b[1;33m.\u001b[0m\u001b[0mregister\u001b[0m \u001b[1;32mimport\u001b[0m \u001b[0mRegister\u001b[0m\u001b[1;33m\u001b[0m\u001b[1;33m\u001b[0m\u001b[0m\n\u001b[1;32m-> 1237\u001b[1;33m \u001b[1;32mfrom\u001b[0m \u001b[1;33m.\u001b[0m \u001b[1;32mimport\u001b[0m \u001b[0mlibrary\u001b[0m\u001b[1;33m\u001b[0m\u001b[1;33m\u001b[0m\u001b[0m\n\u001b[0m\u001b[0;32m   1238\u001b[0m \u001b[1;32mfrom\u001b[0m \u001b[1;33m.\u001b[0m\u001b[0mequivalence_library\u001b[0m \u001b[1;32mimport\u001b[0m \u001b[0mStandardEquivalenceLibrary\u001b[0m\u001b[1;33m,\u001b[0m \u001b[0mSessionEquivalenceLibrary\u001b[0m\u001b[1;33m\u001b[0m\u001b[1;33m\u001b[0m\u001b[0m\n\u001b[0;32m   1239\u001b[0m \u001b[1;32mfrom\u001b[0m \u001b[1;33m.\u001b[0m\u001b[0mcommutation_checker\u001b[0m \u001b[1;32mimport\u001b[0m \u001b[0mCommutationChecker\u001b[0m\u001b[1;33m\u001b[0m\u001b[1;33m\u001b[0m\u001b[0m\n",
      "\u001b[1;32m~\\anaconda3\\lib\\site-packages\\qiskit\\circuit\\library\\__init__.py\u001b[0m in \u001b[0;36m<module>\u001b[1;34m\u001b[0m\n\u001b[0;32m    492\u001b[0m \u001b[1;33m\u001b[0m\u001b[0m\n\u001b[0;32m    493\u001b[0m \u001b[1;32mfrom\u001b[0m \u001b[1;33m.\u001b[0m\u001b[0mblueprintcircuit\u001b[0m \u001b[1;32mimport\u001b[0m \u001b[0mBlueprintCircuit\u001b[0m\u001b[1;33m\u001b[0m\u001b[1;33m\u001b[0m\u001b[0m\n\u001b[1;32m--> 494\u001b[1;33m from .generalized_gates import (\n\u001b[0m\u001b[0;32m    495\u001b[0m     \u001b[0mDiagonal\u001b[0m\u001b[1;33m,\u001b[0m\u001b[1;33m\u001b[0m\u001b[1;33m\u001b[0m\u001b[0m\n\u001b[0;32m    496\u001b[0m     \u001b[0mDiagonalGate\u001b[0m\u001b[1;33m,\u001b[0m\u001b[1;33m\u001b[0m\u001b[1;33m\u001b[0m\u001b[0m\n",
      "\u001b[1;32m~\\anaconda3\\lib\\site-packages\\qiskit\\circuit\\library\\generalized_gates\\__init__.py\u001b[0m in \u001b[0;36m<module>\u001b[1;34m\u001b[0m\n\u001b[0;32m     20\u001b[0m \u001b[1;32mfrom\u001b[0m \u001b[1;33m.\u001b[0m\u001b[0mpauli\u001b[0m \u001b[1;32mimport\u001b[0m \u001b[0mPauliGate\u001b[0m\u001b[1;33m\u001b[0m\u001b[1;33m\u001b[0m\u001b[0m\n\u001b[0;32m     21\u001b[0m \u001b[1;32mfrom\u001b[0m \u001b[1;33m.\u001b[0m\u001b[0mrv\u001b[0m \u001b[1;32mimport\u001b[0m \u001b[0mRVGate\u001b[0m\u001b[1;33m\u001b[0m\u001b[1;33m\u001b[0m\u001b[0m\n\u001b[1;32m---> 22\u001b[1;33m \u001b[1;32mfrom\u001b[0m \u001b[1;33m.\u001b[0m\u001b[0mlinear_function\u001b[0m \u001b[1;32mimport\u001b[0m \u001b[0mLinearFunction\u001b[0m\u001b[1;33m\u001b[0m\u001b[1;33m\u001b[0m\u001b[0m\n\u001b[0m\u001b[0;32m     23\u001b[0m \u001b[1;32mfrom\u001b[0m \u001b[1;33m.\u001b[0m\u001b[0misometry\u001b[0m \u001b[1;32mimport\u001b[0m \u001b[0mIsometry\u001b[0m\u001b[1;33m\u001b[0m\u001b[1;33m\u001b[0m\u001b[0m\n\u001b[0;32m     24\u001b[0m \u001b[1;32mfrom\u001b[0m \u001b[1;33m.\u001b[0m\u001b[0muc\u001b[0m \u001b[1;32mimport\u001b[0m \u001b[0mUCGate\u001b[0m\u001b[1;33m\u001b[0m\u001b[1;33m\u001b[0m\u001b[0m\n",
      "\u001b[1;32m~\\anaconda3\\lib\\site-packages\\qiskit\\circuit\\library\\generalized_gates\\linear_function.py\u001b[0m in \u001b[0;36m<module>\u001b[1;34m\u001b[0m\n\u001b[0;32m     17\u001b[0m \u001b[1;32mfrom\u001b[0m \u001b[0mqiskit\u001b[0m\u001b[1;33m.\u001b[0m\u001b[0mcircuit\u001b[0m\u001b[1;33m.\u001b[0m\u001b[0mquantumcircuit\u001b[0m \u001b[1;32mimport\u001b[0m \u001b[0mQuantumCircuit\u001b[0m\u001b[1;33m,\u001b[0m \u001b[0mGate\u001b[0m\u001b[1;33m\u001b[0m\u001b[1;33m\u001b[0m\u001b[0m\n\u001b[0;32m     18\u001b[0m \u001b[1;32mfrom\u001b[0m \u001b[0mqiskit\u001b[0m\u001b[1;33m.\u001b[0m\u001b[0mcircuit\u001b[0m\u001b[1;33m.\u001b[0m\u001b[0mexceptions\u001b[0m \u001b[1;32mimport\u001b[0m \u001b[0mCircuitError\u001b[0m\u001b[1;33m\u001b[0m\u001b[1;33m\u001b[0m\u001b[0m\n\u001b[1;32m---> 19\u001b[1;33m \u001b[1;32mfrom\u001b[0m \u001b[0mqiskit\u001b[0m\u001b[1;33m.\u001b[0m\u001b[0msynthesis\u001b[0m\u001b[1;33m.\u001b[0m\u001b[0mlinear\u001b[0m \u001b[1;32mimport\u001b[0m \u001b[0mcheck_invertible_binary_matrix\u001b[0m\u001b[1;33m\u001b[0m\u001b[1;33m\u001b[0m\u001b[0m\n\u001b[0m\u001b[0;32m     20\u001b[0m \u001b[1;32mfrom\u001b[0m \u001b[0mqiskit\u001b[0m\u001b[1;33m.\u001b[0m\u001b[0mcircuit\u001b[0m\u001b[1;33m.\u001b[0m\u001b[0mlibrary\u001b[0m\u001b[1;33m.\u001b[0m\u001b[0mgeneralized_gates\u001b[0m\u001b[1;33m.\u001b[0m\u001b[0mpermutation\u001b[0m \u001b[1;32mimport\u001b[0m \u001b[0mPermutationGate\u001b[0m\u001b[1;33m\u001b[0m\u001b[1;33m\u001b[0m\u001b[0m\n\u001b[0;32m     21\u001b[0m \u001b[1;33m\u001b[0m\u001b[0m\n",
      "\u001b[1;32m~\\anaconda3\\lib\\site-packages\\qiskit\\synthesis\\__init__.py\u001b[0m in \u001b[0;36m<module>\u001b[1;34m\u001b[0m\n\u001b[0;32m    124\u001b[0m \"\"\"\n\u001b[0;32m    125\u001b[0m \u001b[1;33m\u001b[0m\u001b[0m\n\u001b[1;32m--> 126\u001b[1;33m from .evolution import (\n\u001b[0m\u001b[0;32m    127\u001b[0m     \u001b[0mEvolutionSynthesis\u001b[0m\u001b[1;33m,\u001b[0m\u001b[1;33m\u001b[0m\u001b[1;33m\u001b[0m\u001b[0m\n\u001b[0;32m    128\u001b[0m     \u001b[0mProductFormula\u001b[0m\u001b[1;33m,\u001b[0m\u001b[1;33m\u001b[0m\u001b[1;33m\u001b[0m\u001b[0m\n",
      "\u001b[1;32m~\\anaconda3\\lib\\site-packages\\qiskit\\synthesis\\evolution\\__init__.py\u001b[0m in \u001b[0;36m<module>\u001b[1;34m\u001b[0m\n\u001b[0;32m     15\u001b[0m \u001b[1;32mfrom\u001b[0m \u001b[1;33m.\u001b[0m\u001b[0mevolution_synthesis\u001b[0m \u001b[1;32mimport\u001b[0m \u001b[0mEvolutionSynthesis\u001b[0m\u001b[1;33m\u001b[0m\u001b[1;33m\u001b[0m\u001b[0m\n\u001b[0;32m     16\u001b[0m \u001b[1;32mfrom\u001b[0m \u001b[1;33m.\u001b[0m\u001b[0mmatrix_synthesis\u001b[0m \u001b[1;32mimport\u001b[0m \u001b[0mMatrixExponential\u001b[0m\u001b[1;33m\u001b[0m\u001b[1;33m\u001b[0m\u001b[0m\n\u001b[1;32m---> 17\u001b[1;33m \u001b[1;32mfrom\u001b[0m \u001b[1;33m.\u001b[0m\u001b[0mproduct_formula\u001b[0m \u001b[1;32mimport\u001b[0m \u001b[0mProductFormula\u001b[0m\u001b[1;33m\u001b[0m\u001b[1;33m\u001b[0m\u001b[0m\n\u001b[0m\u001b[0;32m     18\u001b[0m \u001b[1;32mfrom\u001b[0m \u001b[1;33m.\u001b[0m\u001b[0mlie_trotter\u001b[0m \u001b[1;32mimport\u001b[0m \u001b[0mLieTrotter\u001b[0m\u001b[1;33m\u001b[0m\u001b[1;33m\u001b[0m\u001b[0m\n\u001b[0;32m     19\u001b[0m \u001b[1;32mfrom\u001b[0m \u001b[1;33m.\u001b[0m\u001b[0msuzuki_trotter\u001b[0m \u001b[1;32mimport\u001b[0m \u001b[0mSuzukiTrotter\u001b[0m\u001b[1;33m\u001b[0m\u001b[1;33m\u001b[0m\u001b[0m\n",
      "\u001b[1;32m~\\anaconda3\\lib\\site-packages\\qiskit\\synthesis\\evolution\\product_formula.py\u001b[0m in \u001b[0;36m<module>\u001b[1;34m\u001b[0m\n\u001b[0;32m     18\u001b[0m \u001b[1;32mfrom\u001b[0m \u001b[0mqiskit\u001b[0m\u001b[1;33m.\u001b[0m\u001b[0mcircuit\u001b[0m\u001b[1;33m.\u001b[0m\u001b[0mparameterexpression\u001b[0m \u001b[1;32mimport\u001b[0m \u001b[0mParameterExpression\u001b[0m\u001b[1;33m\u001b[0m\u001b[1;33m\u001b[0m\u001b[0m\n\u001b[0;32m     19\u001b[0m \u001b[1;32mfrom\u001b[0m \u001b[0mqiskit\u001b[0m\u001b[1;33m.\u001b[0m\u001b[0mcircuit\u001b[0m\u001b[1;33m.\u001b[0m\u001b[0mquantumcircuit\u001b[0m \u001b[1;32mimport\u001b[0m \u001b[0mQuantumCircuit\u001b[0m\u001b[1;33m\u001b[0m\u001b[1;33m\u001b[0m\u001b[0m\n\u001b[1;32m---> 20\u001b[1;33m \u001b[1;32mfrom\u001b[0m \u001b[0mqiskit\u001b[0m\u001b[1;33m.\u001b[0m\u001b[0mquantum_info\u001b[0m \u001b[1;32mimport\u001b[0m \u001b[0mSparsePauliOp\u001b[0m\u001b[1;33m,\u001b[0m \u001b[0mPauli\u001b[0m\u001b[1;33m\u001b[0m\u001b[1;33m\u001b[0m\u001b[0m\n\u001b[0m\u001b[0;32m     21\u001b[0m \u001b[1;33m\u001b[0m\u001b[0m\n\u001b[0;32m     22\u001b[0m \u001b[1;32mfrom\u001b[0m \u001b[1;33m.\u001b[0m\u001b[0mevolution_synthesis\u001b[0m \u001b[1;32mimport\u001b[0m \u001b[0mEvolutionSynthesis\u001b[0m\u001b[1;33m\u001b[0m\u001b[1;33m\u001b[0m\u001b[0m\n",
      "\u001b[1;32m~\\anaconda3\\lib\\site-packages\\qiskit\\quantum_info\\__init__.py\u001b[0m in \u001b[0;36m<module>\u001b[1;34m\u001b[0m\n\u001b[0;32m    114\u001b[0m \u001b[1;33m\u001b[0m\u001b[0m\n\u001b[0;32m    115\u001b[0m \u001b[1;32mfrom\u001b[0m \u001b[0m__future__\u001b[0m \u001b[1;32mimport\u001b[0m \u001b[0mannotations\u001b[0m\u001b[1;33m\u001b[0m\u001b[1;33m\u001b[0m\u001b[0m\n\u001b[1;32m--> 116\u001b[1;33m \u001b[1;32mfrom\u001b[0m \u001b[1;33m.\u001b[0m\u001b[0manalysis\u001b[0m \u001b[1;32mimport\u001b[0m \u001b[0mhellinger_distance\u001b[0m\u001b[1;33m,\u001b[0m \u001b[0mhellinger_fidelity\u001b[0m\u001b[1;33m,\u001b[0m \u001b[0mZ2Symmetries\u001b[0m\u001b[1;33m\u001b[0m\u001b[1;33m\u001b[0m\u001b[0m\n\u001b[0m\u001b[0;32m    117\u001b[0m from .operators import (\n\u001b[0;32m    118\u001b[0m     \u001b[0mClifford\u001b[0m\u001b[1;33m,\u001b[0m\u001b[1;33m\u001b[0m\u001b[1;33m\u001b[0m\u001b[0m\n",
      "\u001b[1;32m~\\anaconda3\\lib\\site-packages\\qiskit\\quantum_info\\analysis\\__init__.py\u001b[0m in \u001b[0;36m<module>\u001b[1;34m\u001b[0m\n\u001b[0;32m     15\u001b[0m \u001b[1;32mfrom\u001b[0m \u001b[1;33m.\u001b[0m\u001b[0maverage\u001b[0m \u001b[1;32mimport\u001b[0m \u001b[0maverage_data\u001b[0m\u001b[1;33m\u001b[0m\u001b[1;33m\u001b[0m\u001b[0m\n\u001b[0;32m     16\u001b[0m \u001b[1;32mfrom\u001b[0m \u001b[1;33m.\u001b[0m\u001b[0mdistance\u001b[0m \u001b[1;32mimport\u001b[0m \u001b[0mhellinger_fidelity\u001b[0m\u001b[1;33m,\u001b[0m \u001b[0mhellinger_distance\u001b[0m\u001b[1;33m\u001b[0m\u001b[1;33m\u001b[0m\u001b[0m\n\u001b[1;32m---> 17\u001b[1;33m \u001b[1;32mfrom\u001b[0m \u001b[1;33m.\u001b[0m\u001b[0mz2_symmetries\u001b[0m \u001b[1;32mimport\u001b[0m \u001b[0mZ2Symmetries\u001b[0m\u001b[1;33m\u001b[0m\u001b[1;33m\u001b[0m\u001b[0m\n\u001b[0m",
      "\u001b[1;32m~\\anaconda3\\lib\\site-packages\\qiskit\\quantum_info\\analysis\\z2_symmetries.py\u001b[0m in \u001b[0;36m<module>\u001b[1;34m\u001b[0m\n\u001b[0;32m     24\u001b[0m \u001b[1;33m\u001b[0m\u001b[0m\n\u001b[0;32m     25\u001b[0m \u001b[1;32mfrom\u001b[0m \u001b[0mqiskit\u001b[0m\u001b[1;33m.\u001b[0m\u001b[0mexceptions\u001b[0m \u001b[1;32mimport\u001b[0m \u001b[0mQiskitError\u001b[0m\u001b[1;33m\u001b[0m\u001b[1;33m\u001b[0m\u001b[0m\n\u001b[1;32m---> 26\u001b[1;33m \u001b[1;32mfrom\u001b[0m \u001b[1;33m.\u001b[0m\u001b[1;33m.\u001b[0m\u001b[0moperators\u001b[0m \u001b[1;32mimport\u001b[0m \u001b[0mPauli\u001b[0m\u001b[1;33m,\u001b[0m \u001b[0mSparsePauliOp\u001b[0m\u001b[1;33m\u001b[0m\u001b[1;33m\u001b[0m\u001b[0m\n\u001b[0m\u001b[0;32m     27\u001b[0m \u001b[1;33m\u001b[0m\u001b[0m\n\u001b[0;32m     28\u001b[0m \u001b[1;33m\u001b[0m\u001b[0m\n",
      "\u001b[1;32m~\\anaconda3\\lib\\site-packages\\qiskit\\quantum_info\\operators\\__init__.py\u001b[0m in \u001b[0;36m<module>\u001b[1;34m\u001b[0m\n\u001b[0;32m     14\u001b[0m \u001b[1;33m\u001b[0m\u001b[0m\n\u001b[0;32m     15\u001b[0m \u001b[1;32mfrom\u001b[0m \u001b[0m__future__\u001b[0m \u001b[1;32mimport\u001b[0m \u001b[0mannotations\u001b[0m\u001b[1;33m\u001b[0m\u001b[1;33m\u001b[0m\u001b[0m\n\u001b[1;32m---> 16\u001b[1;33m \u001b[1;32mfrom\u001b[0m \u001b[1;33m.\u001b[0m\u001b[0mchannel\u001b[0m \u001b[1;32mimport\u001b[0m \u001b[0mPTM\u001b[0m\u001b[1;33m,\u001b[0m \u001b[0mChi\u001b[0m\u001b[1;33m,\u001b[0m \u001b[0mChoi\u001b[0m\u001b[1;33m,\u001b[0m \u001b[0mKraus\u001b[0m\u001b[1;33m,\u001b[0m \u001b[0mStinespring\u001b[0m\u001b[1;33m,\u001b[0m \u001b[0mSuperOp\u001b[0m\u001b[1;33m\u001b[0m\u001b[1;33m\u001b[0m\u001b[0m\n\u001b[0m\u001b[0;32m     17\u001b[0m \u001b[1;32mfrom\u001b[0m \u001b[1;33m.\u001b[0m\u001b[0mdihedral\u001b[0m \u001b[1;32mimport\u001b[0m \u001b[0mCNOTDihedral\u001b[0m\u001b[1;33m\u001b[0m\u001b[1;33m\u001b[0m\u001b[0m\n\u001b[0;32m     18\u001b[0m \u001b[1;32mfrom\u001b[0m \u001b[1;33m.\u001b[0m\u001b[0mmeasures\u001b[0m \u001b[1;32mimport\u001b[0m \u001b[0maverage_gate_fidelity\u001b[0m\u001b[1;33m,\u001b[0m \u001b[0mdiamond_norm\u001b[0m\u001b[1;33m,\u001b[0m \u001b[0mgate_error\u001b[0m\u001b[1;33m,\u001b[0m \u001b[0mprocess_fidelity\u001b[0m\u001b[1;33m\u001b[0m\u001b[1;33m\u001b[0m\u001b[0m\n",
      "\u001b[1;32m~\\anaconda3\\lib\\site-packages\\qiskit\\quantum_info\\operators\\channel\\__init__.py\u001b[0m in \u001b[0;36m<module>\u001b[1;34m\u001b[0m\n\u001b[0;32m     22\u001b[0m \u001b[1;33m\u001b[0m\u001b[0m\n\u001b[0;32m     23\u001b[0m \u001b[1;32mfrom\u001b[0m \u001b[0m__future__\u001b[0m \u001b[1;32mimport\u001b[0m \u001b[0mannotations\u001b[0m\u001b[1;33m\u001b[0m\u001b[1;33m\u001b[0m\u001b[0m\n\u001b[1;32m---> 24\u001b[1;33m \u001b[1;32mfrom\u001b[0m \u001b[1;33m.\u001b[0m\u001b[0msuperop\u001b[0m \u001b[1;32mimport\u001b[0m \u001b[0mSuperOp\u001b[0m\u001b[1;33m\u001b[0m\u001b[1;33m\u001b[0m\u001b[0m\n\u001b[0m\u001b[0;32m     25\u001b[0m \u001b[1;32mfrom\u001b[0m \u001b[1;33m.\u001b[0m\u001b[0mchoi\u001b[0m \u001b[1;32mimport\u001b[0m \u001b[0mChoi\u001b[0m\u001b[1;33m\u001b[0m\u001b[1;33m\u001b[0m\u001b[0m\n\u001b[0;32m     26\u001b[0m \u001b[1;32mfrom\u001b[0m \u001b[1;33m.\u001b[0m\u001b[0mkraus\u001b[0m \u001b[1;32mimport\u001b[0m \u001b[0mKraus\u001b[0m\u001b[1;33m\u001b[0m\u001b[1;33m\u001b[0m\u001b[0m\n",
      "\u001b[1;32m~\\anaconda3\\lib\\site-packages\\qiskit\\quantum_info\\operators\\channel\\superop.py\u001b[0m in \u001b[0;36m<module>\u001b[1;34m\u001b[0m\n\u001b[0;32m     26\u001b[0m \u001b[1;32mfrom\u001b[0m \u001b[0mqiskit\u001b[0m\u001b[1;33m.\u001b[0m\u001b[0mcircuit\u001b[0m\u001b[1;33m.\u001b[0m\u001b[0mquantumcircuit\u001b[0m \u001b[1;32mimport\u001b[0m \u001b[0mQuantumCircuit\u001b[0m\u001b[1;33m\u001b[0m\u001b[1;33m\u001b[0m\u001b[0m\n\u001b[0;32m     27\u001b[0m \u001b[1;32mfrom\u001b[0m \u001b[0mqiskit\u001b[0m\u001b[1;33m.\u001b[0m\u001b[0mexceptions\u001b[0m \u001b[1;32mimport\u001b[0m \u001b[0mQiskitError\u001b[0m\u001b[1;33m\u001b[0m\u001b[1;33m\u001b[0m\u001b[0m\n\u001b[1;32m---> 28\u001b[1;33m \u001b[1;32mfrom\u001b[0m \u001b[0mqiskit\u001b[0m\u001b[1;33m.\u001b[0m\u001b[0mquantum_info\u001b[0m\u001b[1;33m.\u001b[0m\u001b[0moperators\u001b[0m\u001b[1;33m.\u001b[0m\u001b[0mbase_operator\u001b[0m \u001b[1;32mimport\u001b[0m \u001b[0mBaseOperator\u001b[0m\u001b[1;33m\u001b[0m\u001b[1;33m\u001b[0m\u001b[0m\n\u001b[0m\u001b[0;32m     29\u001b[0m \u001b[1;32mfrom\u001b[0m \u001b[0mqiskit\u001b[0m\u001b[1;33m.\u001b[0m\u001b[0mquantum_info\u001b[0m\u001b[1;33m.\u001b[0m\u001b[0moperators\u001b[0m\u001b[1;33m.\u001b[0m\u001b[0mchannel\u001b[0m\u001b[1;33m.\u001b[0m\u001b[0mquantum_channel\u001b[0m \u001b[1;32mimport\u001b[0m \u001b[0mQuantumChannel\u001b[0m\u001b[1;33m\u001b[0m\u001b[1;33m\u001b[0m\u001b[0m\n\u001b[0;32m     30\u001b[0m \u001b[1;32mfrom\u001b[0m \u001b[0mqiskit\u001b[0m\u001b[1;33m.\u001b[0m\u001b[0mquantum_info\u001b[0m\u001b[1;33m.\u001b[0m\u001b[0moperators\u001b[0m\u001b[1;33m.\u001b[0m\u001b[0mchannel\u001b[0m\u001b[1;33m.\u001b[0m\u001b[0mtransformations\u001b[0m \u001b[1;32mimport\u001b[0m \u001b[0m_bipartite_tensor\u001b[0m\u001b[1;33m,\u001b[0m \u001b[0m_to_superop\u001b[0m\u001b[1;33m\u001b[0m\u001b[1;33m\u001b[0m\u001b[0m\n",
      "\u001b[1;32m~\\anaconda3\\lib\\site-packages\\qiskit\\quantum_info\\operators\\base_operator.py\u001b[0m in \u001b[0;36m<module>\u001b[1;34m\u001b[0m\n\u001b[0;32m     22\u001b[0m \u001b[1;32mfrom\u001b[0m \u001b[0mqiskit\u001b[0m\u001b[1;33m.\u001b[0m\u001b[0mquantum_info\u001b[0m\u001b[1;33m.\u001b[0m\u001b[0moperators\u001b[0m\u001b[1;33m.\u001b[0m\u001b[0mop_shape\u001b[0m \u001b[1;32mimport\u001b[0m \u001b[0mOpShape\u001b[0m\u001b[1;33m\u001b[0m\u001b[1;33m\u001b[0m\u001b[0m\n\u001b[0;32m     23\u001b[0m \u001b[1;33m\u001b[0m\u001b[0m\n\u001b[1;32m---> 24\u001b[1;33m \u001b[1;32mfrom\u001b[0m \u001b[1;33m.\u001b[0m\u001b[0mmixins\u001b[0m \u001b[1;32mimport\u001b[0m \u001b[0mGroupMixin\u001b[0m\u001b[1;33m\u001b[0m\u001b[1;33m\u001b[0m\u001b[0m\n\u001b[0m\u001b[0;32m     25\u001b[0m \u001b[1;33m\u001b[0m\u001b[0m\n\u001b[0;32m     26\u001b[0m \u001b[1;33m\u001b[0m\u001b[0m\n",
      "\u001b[1;32m~\\anaconda3\\lib\\site-packages\\qiskit\\quantum_info\\operators\\mixins\\__init__.py\u001b[0m in \u001b[0;36m<module>\u001b[1;34m\u001b[0m\n\u001b[0;32m     17\u001b[0m \u001b[1;32mfrom\u001b[0m \u001b[0minspect\u001b[0m \u001b[1;32mimport\u001b[0m \u001b[0mgetdoc\u001b[0m\u001b[1;33m\u001b[0m\u001b[1;33m\u001b[0m\u001b[0m\n\u001b[0;32m     18\u001b[0m \u001b[1;33m\u001b[0m\u001b[0m\n\u001b[1;32m---> 19\u001b[1;33m \u001b[1;32mfrom\u001b[0m \u001b[1;33m.\u001b[0m\u001b[0mgroup\u001b[0m \u001b[1;32mimport\u001b[0m \u001b[0mGroupMixin\u001b[0m\u001b[1;33m\u001b[0m\u001b[1;33m\u001b[0m\u001b[0m\n\u001b[0m\u001b[0;32m     20\u001b[0m \u001b[1;32mfrom\u001b[0m \u001b[1;33m.\u001b[0m\u001b[0madjoint\u001b[0m \u001b[1;32mimport\u001b[0m \u001b[0mAdjointMixin\u001b[0m\u001b[1;33m\u001b[0m\u001b[1;33m\u001b[0m\u001b[0m\n\u001b[0;32m     21\u001b[0m \u001b[1;32mfrom\u001b[0m \u001b[1;33m.\u001b[0m\u001b[0mlinear\u001b[0m \u001b[1;32mimport\u001b[0m \u001b[0mLinearMixin\u001b[0m\u001b[1;33m\u001b[0m\u001b[1;33m\u001b[0m\u001b[0m\n",
      "\u001b[1;32m~\\anaconda3\\lib\\site-packages\\qiskit\\quantum_info\\operators\\mixins\\group.py\u001b[0m in \u001b[0;36m<module>\u001b[1;34m\u001b[0m\n\u001b[0;32m     24\u001b[0m     \u001b[1;32mfrom\u001b[0m \u001b[0mtyping\u001b[0m \u001b[1;32mimport\u001b[0m \u001b[0mSelf\u001b[0m\u001b[1;33m\u001b[0m\u001b[1;33m\u001b[0m\u001b[0m\n\u001b[0;32m     25\u001b[0m \u001b[1;32melse\u001b[0m\u001b[1;33m:\u001b[0m\u001b[1;33m\u001b[0m\u001b[1;33m\u001b[0m\u001b[0m\n\u001b[1;32m---> 26\u001b[1;33m     \u001b[1;32mfrom\u001b[0m \u001b[0mtyping_extensions\u001b[0m \u001b[1;32mimport\u001b[0m \u001b[0mSelf\u001b[0m\u001b[1;33m\u001b[0m\u001b[1;33m\u001b[0m\u001b[0m\n\u001b[0m\u001b[0;32m     27\u001b[0m \u001b[1;33m\u001b[0m\u001b[0m\n\u001b[0;32m     28\u001b[0m \u001b[1;33m\u001b[0m\u001b[0m\n",
      "\u001b[1;31mImportError\u001b[0m: cannot import name 'Self' from 'typing_extensions' (C:\\Users\\J.Board\\anaconda3\\lib\\site-packages\\typing_extensions.py)"
     ]
    }
   ],
   "source": [
    "from qiskit import QuantumCircuit, Aer, execute\n",
    "from qiskit.visualization import plot_histogram\n",
    "from qiskit.circuit.library import ZGate, XGate\n",
    "\n",
    "# create a constant / balanced oracle\n",
    "def deutsch_oracle(case):\n",
    "    oracle = QuantumCircuit(2)\n",
    "    if case == 'balanced':\n",
    "        # use CNOT\n",
    "        oracle.cx(0, 1) \n",
    "    elif case == 'constant':\n",
    "        # identity gate\n",
    "        oracle.i(1) \n",
    "    return oracle\n",
    "\n",
    "# create deutschs algorithm\n",
    "def deutsch_algorithm(case):\n",
    "\n",
    "    # 2 qubits in circuit\n",
    "    qc = QuantumCircuit(2, 1)\n",
    "    qc.h(0)\n",
    "    qc.x(1)\n",
    "    qc.h(1)\n",
    "    qc.append(deutsch_oracle(case).to_gate(), [0, 1])\n",
    "    qc.h(0)\n",
    "    qc.measure(0, 0)\n",
    "    \n",
    "    return qc\n",
    "\n",
    "case = 'balanced'\n",
    "\n",
    "# implementing deutschs circuit\n",
    "qc = deutsch_algorithm(case)\n",
    "sim = Aer.get_backend('qasm_simulator')\n",
    "result = execute(qc, sim, shots=1024).result()\n",
    "\n",
    "# plot on histogram using counts\n",
    "counts = result.get_counts(qc)\n",
    "print(f\"Case: {case}\")\n",
    "plot_histogram(counts)"
   ]
  },
  {
   "cell_type": "code",
   "execution_count": null,
   "id": "2ce4c43e",
   "metadata": {},
   "outputs": [],
   "source": [
    "# drawing the circuit\n",
    "qc.draw('mpl')"
   ]
  },
  {
   "cell_type": "markdown",
   "id": "f8053b5e",
   "metadata": {},
   "source": [
    "## The Quantum Circuit\n",
    "\n",
    "Qubits: Consists of 2 Qubits (q0) and (q1). Where q0 holds the input for the function f(x) and (q1) is a auxillery qubit that is used in the interference process.\n",
    "\n",
    "Oracle (Uf): This quantum gate represents the function f(x). Implemented as a controlled operation and flips q1 if q0 is in a certain state. If its a balanced function then the oracle flips q1 depending on q0. (CNOT gate) If its a constant function then the oracle does not change. (Identity opeartion)\n",
    "\n",
    "Hadamard Gates (H): This quantum gate allows the function to be evaluated on botch inputs at the same time by putting a qubit into a superpostion of states |0> |1>. For q0 the H gate creates a superposition of the input states in order to allow the function f(x) to be evaluated on both inputs at the same time. For q1 the H is used after the quibit is flipped to |1>|1> which uses the x gate and prepares it for the oracles operation.\n",
    "\n",
    "After the Oracle operation we create another Hadmard gate and apply it to q0. Using quantum interference to remove paths that lead to different outputs and leaving behind the answer is f(x) balanced or constant. \n",
    "\n",
    "In our circuit the function is constant because the qubit stays in the state |0>|0> and if it were balanced then it would flip to the state of |1>|1>.\n",
    "\n",
    "### Challenges\n",
    "There could be a couple of challenges that come using the quantum circuit. For one there could be accuracy errors with the gates leading to wrong measurements and also the oracle needs to be working correctly in order for the circuit to give correct outcomes."
   ]
  },
  {
   "cell_type": "code",
   "execution_count": null,
   "id": "20fbeb3c",
   "metadata": {},
   "outputs": [],
   "source": []
  }
 ],
 "metadata": {
  "kernelspec": {
   "display_name": "Python 3 (ipykernel)",
   "language": "python",
   "name": "python3"
  },
  "language_info": {
   "codemirror_mode": {
    "name": "ipython",
    "version": 3
   },
   "file_extension": ".py",
   "mimetype": "text/x-python",
   "name": "python",
   "nbconvert_exporter": "python",
   "pygments_lexer": "ipython3",
   "version": "3.9.18"
  }
 },
 "nbformat": 4,
 "nbformat_minor": 5
}
