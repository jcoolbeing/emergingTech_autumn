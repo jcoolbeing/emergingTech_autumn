{
 "cells": [
  {
   "cell_type": "markdown",
   "id": "11c03ace",
   "metadata": {},
   "source": [
    "# Emerging Technologies"
   ]
  },
  {
   "cell_type": "markdown",
   "id": "d9193266",
   "metadata": {},
   "source": [
    " ## Task 1: Single Bit Functions"
   ]
  },
  {
   "cell_type": "markdown",
   "id": "547bf142",
   "metadata": {},
   "source": [
    "These are all the possible functions that take a single bit as input and have a single bit output(0 or 1).\n",
    "Below is a implementation using the Python language.\n",
    "\n",
    "1. Identity function - This function returns the same bit.\n",
    "2. NOT function - This function returns the opposit bit.\n",
    "3. Constant Zero function - This function always returns 0.\n",
    "4. Constant One function - This function always returns 1."
   ]
  },
  {
   "cell_type": "code",
   "execution_count": null,
   "id": "2e9f5687",
   "metadata": {},
   "outputs": [],
   "source": []
  }
 ],
 "metadata": {
  "kernelspec": {
   "display_name": "Python 3 (ipykernel)",
   "language": "python",
   "name": "python3"
  },
  "language_info": {
   "codemirror_mode": {
    "name": "ipython",
    "version": 3
   },
   "file_extension": ".py",
   "mimetype": "text/x-python",
   "name": "python",
   "nbconvert_exporter": "python",
   "pygments_lexer": "ipython3",
   "version": "3.9.7"
  }
 },
 "nbformat": 4,
 "nbformat_minor": 5
}
